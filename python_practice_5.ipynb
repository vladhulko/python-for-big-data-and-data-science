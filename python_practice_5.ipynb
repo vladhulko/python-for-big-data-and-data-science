{
  "nbformat": 4,
  "nbformat_minor": 0,
  "metadata": {
    "colab": {
      "provenance": []
    },
    "kernelspec": {
      "name": "python3",
      "display_name": "Python 3"
    },
    "language_info": {
      "name": "python"
    }
  },
  "cells": [
    {
      "cell_type": "markdown",
      "source": [
        "# I. OOP"
      ],
      "metadata": {
        "id": "5qV_sehzFCTp"
      }
    },
    {
      "cell_type": "markdown",
      "source": [
        "1. (6б). Створіть клас Building, додайте три атрибути, один з яких має значення за замовчуванням та два методи на свій розсуд."
      ],
      "metadata": {
        "id": "tx_U_hOALyfg"
      }
    },
    {
      "cell_type": "code",
      "source": [
        "class Building:\n",
        "  def __init__(self, address, storeys, year_of_built = 2019):\n",
        "    self.address = address\n",
        "    self.storeys = storeys\n",
        "    self.year_of_built = year_of_built\n",
        "\n",
        "  def get_address(self):\n",
        "    return self.address\n",
        "\n",
        "  def calc_age(self):\n",
        "    current_year = 2025\n",
        "    return current_year - self.year_of_built\n"
      ],
      "metadata": {
        "id": "-Vf895KaL88N"
      },
      "execution_count": 8,
      "outputs": []
    },
    {
      "cell_type": "markdown",
      "source": [
        "2. (2б). Створіть два обʼєкти цього класу, де один з обʼєктів створюється із дефолтним значенням атрибуту. На одному обʼєкті отримайте значення його атрибуту, а на іншому викличте один з його методів."
      ],
      "metadata": {
        "id": "X_UlOMB0L93w"
      }
    },
    {
      "cell_type": "code",
      "source": [
        "building1 = Building(\"Миколи Закревського, 95\", 20, 2014)\n",
        "building1 = Building(\"Олександри Екстер, 14Б\", 9)\n",
        "\n",
        "print(f\"Адреса building1: {building1.get_address()}\")\n",
        "print(f\"Вік building2: {building1.calc_age()}\")\n"
      ],
      "metadata": {
        "id": "7gBu0ESOMCpG",
        "colab": {
          "base_uri": "https://localhost:8080/"
        },
        "outputId": "8367c9c2-4764-4542-e7bb-2f3123bb4b55"
      },
      "execution_count": 9,
      "outputs": [
        {
          "output_type": "stream",
          "name": "stdout",
          "text": [
            "Адреса building1: Олександри Екстер, 14Б\n",
            "Вік building2: 6\n"
          ]
        }
      ]
    },
    {
      "cell_type": "markdown",
      "source": [
        "3. (5б). Створіть клас, де атрибути мають різні рівні доступу. Спробуйте отримати їхні значення та опишіть результати."
      ],
      "metadata": {
        "id": "HoqSCZt1MHn5"
      }
    },
    {
      "cell_type": "code",
      "source": [
        "class MyClass():\n",
        "  def __init__(self, public_atr, protected_atr, private_atr):\n",
        "    self.public_atr = public_atr\n",
        "    self._protected_atr = protected_atr\n",
        "    self.__private_atr = private_atr\n",
        "\n",
        "  def get_private_atr(self):\n",
        "    return self.__private_atr\n",
        "\n",
        "obj = MyClass(\"public\", \"protected\", \"private\")\n",
        "print(f\"Публічний атрибут: {obj.public_atr}\")\n",
        "print(f\"Захищений атрибут: {obj._protected_atr}\")\n",
        "#print(f\"Приватний атрибут: {obj.__private_atr}\")\n",
        "print(f\"Приватний атрибут: {obj.get_private_atr()}\")\n"
      ],
      "metadata": {
        "id": "r9b3vJxBMSPV",
        "colab": {
          "base_uri": "https://localhost:8080/"
        },
        "outputId": "d056f27a-ba62-4526-cc82-ee81e919acec"
      },
      "execution_count": 12,
      "outputs": [
        {
          "output_type": "stream",
          "name": "stdout",
          "text": [
            "Публічний атрибут: public\n",
            "Захищений атрибут: protected\n",
            "Приватний атрибут: private\n"
          ]
        }
      ]
    },
    {
      "cell_type": "markdown",
      "source": [],
      "metadata": {
        "id": "zlDzo0IY0nmQ"
      }
    },
    {
      "cell_type": "markdown",
      "source": [
        "4. (7б). Як ви розумієте термін self? Для чого використовується метод __init __?"
      ],
      "metadata": {
        "id": "5op2m2vgMSkZ"
      }
    },
    {
      "cell_type": "markdown",
      "source": [
        "Викладач з C# пояснював ООП на печиві, тому я також:\n",
        "self - це як кожне печиво яке я витискаю формочкою для печива кожне печиво це self вони хоч і зроблені однією формочкою, але кожний self це окреме печиво. __init__ - це інструкція для печива у якій вказані всі пропорції та як його робити, тобто воно вказує як зробити кожний self(печиво) правильно"
      ],
      "metadata": {
        "id": "DyiPqNRvMasx"
      }
    },
    {
      "cell_type": "markdown",
      "source": [
        "5. (9б). Створіть клас 3D-фігура без атрибутів, з методом get_volume для отримання об'єму фігури, що повертає 0 та __add __, який приймає self та other в якості аргументів, а повертає суму об'ємів 3d-фігур self та other."
      ],
      "metadata": {
        "id": "-6X8EGfjMd2y"
      }
    },
    {
      "cell_type": "code",
      "source": [
        "class ThreeDFigure():\n",
        "  def get_volume(self):\n",
        "    return 0\n",
        "  def __add__(self, other):\n",
        "    return self.get_volume() + other.get_volume()\n"
      ],
      "metadata": {
        "id": "4rvO_wYUMaEr"
      },
      "execution_count": 15,
      "outputs": []
    },
    {
      "cell_type": "markdown",
      "source": [
        "6. (11б). Створіть 2 дочірніх класи від 3d-фігура: Циліндр та Куб, які мають атрибути, необхідні для розрахунку об'єму. Визначте метод get_volume в кожному з них так, щоби вони розраховували об'єм у залежності від формули для кожного типу фігури. Створіть обʼєкт класу Циліндр та обʼєкт класу Куб. Виконайте операцію суми за допомогою оператора + між ними, аби знайти сумарний об'єм."
      ],
      "metadata": {
        "id": "SFcKnnv5Mo_z"
      }
    },
    {
      "cell_type": "code",
      "source": [
        "class Cylinder(ThreeDFigure):\n",
        "  def __init__(self, base_area, height):\n",
        "    self.base_area = base_area\n",
        "    self.height = height\n",
        "\n",
        "  def get_volume(self):\n",
        "    return self.base_area * self.height\n",
        "\n",
        "class Cube(ThreeDFigure):\n",
        "  def __init__(self, side):\n",
        "    self.side = side\n",
        "\n",
        "  def get_volume(self):\n",
        "    return self.side ** 3\n",
        "\n",
        "cylinder = Cylinder(10, 5)\n",
        "cube = Cube(5)\n",
        "\n",
        "print(f\"Об'єм циліндра: {cylinder.get_volume()}\")\n",
        "print(f\"Об'єм куба: {cube.get_volume()}\")\n",
        "\n",
        "sum = cylinder + cube\n",
        "print(f\"Загальний об'єм: {sum}\")"
      ],
      "metadata": {
        "id": "H3GVNr69Muf3",
        "colab": {
          "base_uri": "https://localhost:8080/"
        },
        "outputId": "7b0e91b2-1306-4fd8-f8da-c05b79516468"
      },
      "execution_count": 16,
      "outputs": [
        {
          "output_type": "stream",
          "name": "stdout",
          "text": [
            "Об'єм циліндра: 50\n",
            "Об'єм куба: 125\n",
            "Загальний об'єм: 175\n"
          ]
        }
      ]
    },
    {
      "cell_type": "markdown",
      "source": [
        "7. (3б). Продемонструйте різницю між isinstance та issubclass."
      ],
      "metadata": {
        "id": "HCvR206YMvLK"
      }
    },
    {
      "cell_type": "code",
      "source": [
        "class Food:\n",
        "  pass\n",
        "class Borshch(Food):\n",
        "  pass\n",
        "\n",
        "food = Food()\n",
        "borshch = Borshch()\n",
        "\n",
        "print(isinstance(food, Food))       #True food - екземпляр Food\n",
        "print(isinstance(food, Borshch))    #False food - не екземпляр Borshch\n",
        "print(isinstance(borshch, Food))    #True borshch - екземляр Borshch, який є підкласом Food\n",
        "print(isinstance(borshch, Borshch)) #True borshch - екземпляр Borshch\n",
        "\n",
        "print(issubclass(Borshch, Food))    #True Borshch - підклас Food\n",
        "print(issubclass(Food, Borshch))    #False Food - не підклас Borshch\n",
        "print(issubclass(Food, Food))       #True Food - підклас самого себе"
      ],
      "metadata": {
        "id": "L_V1bBvDM0GN",
        "colab": {
          "base_uri": "https://localhost:8080/"
        },
        "outputId": "b3d9546f-7e4c-4bf4-fbff-cd8c0815f340"
      },
      "execution_count": 20,
      "outputs": [
        {
          "output_type": "stream",
          "name": "stdout",
          "text": [
            "True\n",
            "False\n",
            "True\n",
            "True\n",
            "True\n",
            "False\n",
            "True\n"
          ]
        }
      ]
    },
    {
      "cell_type": "markdown",
      "source": [
        "8. (13б). Створіть клас EWallet з приватними атрибутами balance та id. Реалізуйте методи поповнення та зняття коштів, забезпечивши належну інкапсуляцію. Підказка: використовуйте декоратори property та setter."
      ],
      "metadata": {
        "id": "jjsaBZ-iM0Qq"
      }
    },
    {
      "cell_type": "code",
      "source": [
        "class EWallet():\n",
        "  def __init__(self, balance, id):\n",
        "    self.__balance = balance\n",
        "    self.__id = id\n",
        "\n",
        "  @property\n",
        "  def balance(self):\n",
        "    return self.__balance\n",
        "\n",
        "  @balance.setter\n",
        "  def balance(self, new_balance):\n",
        "    if new_balance >= 0:\n",
        "      self.__balance = new_balance\n",
        "    else:\n",
        "      print(\"Помилка! Баланс не може бути від'ємним\")\n",
        "\n",
        "  def deposit(self, amount):\n",
        "    if amount >= 0:\n",
        "      self.balance += amount\n",
        "      print(f\"Поповнено на: {amount}. Поточний баланс: {self.balance}\")\n",
        "    else:\n",
        "      print(\"Сума не є коректною. Має бути більше 0\")\n",
        "\n",
        "  def withdraw(self, amount):\n",
        "    if amount >= 0 and amount <= self.balance:\n",
        "      self.balance -= amount\n",
        "      print(f\"Знято: {amount}. Поточний баланс: {self.balance}\")\n",
        "    else:\n",
        "      print(\"Недостатньо коштів або сума не є коректною.\")\n",
        "\n",
        "  @property\n",
        "  def id(self):\n",
        "    return self.__id\n",
        "\n",
        "wallet = EWallet(100, \"12345\")\n",
        "print(f\"ID гаманця: {wallet.id}\")\n",
        "print(f\"Поточний баланс: {wallet.balance}\")\n",
        "\n",
        "wallet.deposit(50)\n",
        "wallet.withdraw(20)\n",
        "wallet.deposit(-50)   # Спроба поповнити на від'ємну суму\n",
        "wallet.withdraw(200)  # Спроба зняти більше, ніж є на балансі\n",
        "wallet.balance = -10  # Спроба встановити від'ємний баланс\n",
        "print(f\"Поточний баланс: {wallet.balance}\")"
      ],
      "metadata": {
        "id": "xCvZ7lh8M7YA",
        "colab": {
          "base_uri": "https://localhost:8080/"
        },
        "outputId": "03e15272-900a-4d0c-a138-b375496d8de4"
      },
      "execution_count": 24,
      "outputs": [
        {
          "output_type": "stream",
          "name": "stdout",
          "text": [
            "ID гаманця: 12345\n",
            "Поточний баланс: 100\n",
            "Поповнено на: 50. Поточний баланс: 150\n",
            "Знято: 20. Поточний баланс: 130\n",
            "Сума не є коректною. Має бути більше 0\n",
            "Недостатньо коштів або сума не є коректною.\n",
            "Помилка! Баланс не може бути від'ємним\n",
            "Поточний баланс: 130\n"
          ]
        }
      ]
    },
    {
      "cell_type": "markdown",
      "source": [
        "9. (11б). Створіть клас ShoppingCart, який містить список об'єктів типу Item. Реалізуйте методи для додавання айтемів, їх видалення та відображення списку айтемів."
      ],
      "metadata": {
        "id": "tIzL2SJTM8ft"
      }
    },
    {
      "cell_type": "code",
      "source": [
        "class Item:\n",
        "  def __init__(self, name, price):\n",
        "    self.name = name\n",
        "    self.price = price\n",
        "\n",
        "  def __str__(self):\n",
        "    return f\"{self.name} - ${self.price:.2f}\"\n",
        "\n",
        "class ShoppingCart:\n",
        "  def __init__(self):\n",
        "    self.items = []\n",
        "\n",
        "  def add_item(self, item):\n",
        "    self.items.append(item)\n",
        "    print(f\"Додано: {item}\")\n",
        "\n",
        "  def remove_item(self, item_name):\n",
        "    removed = False\n",
        "    for item in self.items[:]:\n",
        "      if item.name == item_name:\n",
        "        self.items.remove(item)\n",
        "        print(f\"Видалено: {item}\")\n",
        "        removed = True\n",
        "    if not removed:\n",
        "      print(f\"Айтем '{item_name}' не знайдено в кошику.\")\n",
        "\n",
        "  def display_items(self):\n",
        "    if not self.items:\n",
        "      print(\"Немає товарів у кошику.\")\n",
        "    else:\n",
        "      print(\"Айтеми в кошику:\")\n",
        "      for item in self.items:\n",
        "        print(f\"- {item}\")\n",
        "\n",
        "cart = ShoppingCart()\n",
        "\n",
        "item1 = Item(\"Яблуко\", 1.50)\n",
        "item2 = Item(\"Банан\", 2.00)\n",
        "item3 = Item(\"Молоко\", 3.50)\n",
        "\n",
        "cart.add_item(item1)\n",
        "cart.add_item(item2)\n",
        "cart.add_item(item3)\n",
        "\n",
        "cart.display_items()\n",
        "\n",
        "cart.remove_item(\"Банан\")\n",
        "\n",
        "cart.display_items()\n",
        "\n",
        "cart.remove_item(\"Апельсин\")"
      ],
      "metadata": {
        "id": "HWxfJKLtNAUZ",
        "colab": {
          "base_uri": "https://localhost:8080/"
        },
        "outputId": "050df381-3222-4f67-92b0-a0f4d905fc1f"
      },
      "execution_count": 32,
      "outputs": [
        {
          "output_type": "stream",
          "name": "stdout",
          "text": [
            "Додано: Яблуко - $1.50\n",
            "Додано: Банан - $2.00\n",
            "Додано: Молоко - $3.50\n",
            "Айтеми в кошику:\n",
            "- Яблуко - $1.50\n",
            "- Банан - $2.00\n",
            "- Молоко - $3.50\n",
            "Видалено: Банан - $2.00\n",
            "Айтеми в кошику:\n",
            "- Яблуко - $1.50\n",
            "- Молоко - $3.50\n",
            "Айтем 'Апельсин' не знайдено в кошику.\n"
          ]
        }
      ]
    },
    {
      "cell_type": "markdown",
      "source": [
        "10. (13б). Створіть клас Vehicle з атрибутами brand (manufacturer) та production_age. Створіть ще один клас Engine з такими атрибутами, як type (ex. petrol) та size (volume, litres). Створіть клас Car, який успадковує обидва класи Vehicle та Engine. Продемонструйте використання множинної спадковості, створивши обʼєкт класу Car та отримавши mro для цього класу."
      ],
      "metadata": {
        "id": "lmV8pAwwNIqu"
      }
    },
    {
      "cell_type": "code",
      "source": [
        "class Vehicle:\n",
        "  def __init__(self, brand, production_age):\n",
        "    self.brand = brand\n",
        "    self.production_age = production_age\n",
        "\n",
        "\n",
        "class Engine:\n",
        "   def __init__(self, type, size):\n",
        "    self.type = type\n",
        "    self.size = size\n",
        "\n",
        "class Car(Vehicle, Engine):\n",
        "  def __init__(self, brand, production_age, type, size):\n",
        "    Vehicle.__init__(self, brand, production_age)\n",
        "    Engine.__init__(self, type, size)\n",
        "\n",
        "car = Car(\"Subaru\", 1992, \"gas\", 1.5)\n",
        "\n",
        "print(Car.mro())"
      ],
      "metadata": {
        "id": "R49grKlWNPeN",
        "colab": {
          "base_uri": "https://localhost:8080/"
        },
        "outputId": "01ca691a-4855-4af7-8447-6ae8cf1ed79e"
      },
      "execution_count": 34,
      "outputs": [
        {
          "output_type": "stream",
          "name": "stdout",
          "text": [
            "[<class '__main__.Car'>, <class '__main__.Vehicle'>, <class '__main__.Engine'>, <class 'object'>]\n"
          ]
        }
      ]
    },
    {
      "cell_type": "markdown",
      "source": [
        "# II. Iterator"
      ],
      "metadata": {
        "id": "dIJyUiNBFG8G"
      }
    },
    {
      "cell_type": "markdown",
      "source": [
        "11. (4б). Визначте рядок(str) з 4ма різними за значенням символами. Створіть ітератор на основі цього рядка. Викличте 5 разів функцію next на ітераторі, 4ри перших з них огорніть у ф-цію print()."
      ],
      "metadata": {
        "id": "13vsm0NyKIzL"
      }
    },
    {
      "cell_type": "code",
      "source": [
        "my_str = \"bepv\"\n",
        "my_iterator = iter(my_str)\n",
        "\n",
        "print(next(my_iterator))\n",
        "print(next(my_iterator))\n",
        "print(next(my_iterator))\n",
        "print(next(my_iterator))\n",
        "\n",
        "next(my_iterator)"
      ],
      "metadata": {
        "id": "81ntabAkKuz-",
        "colab": {
          "base_uri": "https://localhost:8080/",
          "height": 245
        },
        "outputId": "9abfff32-454a-454a-c076-cfad8ee4de72"
      },
      "execution_count": 35,
      "outputs": [
        {
          "output_type": "stream",
          "name": "stdout",
          "text": [
            "b\n",
            "e\n",
            "p\n",
            "v\n"
          ]
        },
        {
          "output_type": "error",
          "ename": "StopIteration",
          "evalue": "",
          "traceback": [
            "\u001b[0;31m---------------------------------------------------------------------------\u001b[0m",
            "\u001b[0;31mStopIteration\u001b[0m                             Traceback (most recent call last)",
            "\u001b[0;32m<ipython-input-35-6d46779959fe>\u001b[0m in \u001b[0;36m<cell line: 0>\u001b[0;34m()\u001b[0m\n\u001b[1;32m      7\u001b[0m \u001b[0mprint\u001b[0m\u001b[0;34m(\u001b[0m\u001b[0mnext\u001b[0m\u001b[0;34m(\u001b[0m\u001b[0mmy_iterator\u001b[0m\u001b[0;34m)\u001b[0m\u001b[0;34m)\u001b[0m\u001b[0;34m\u001b[0m\u001b[0;34m\u001b[0m\u001b[0m\n\u001b[1;32m      8\u001b[0m \u001b[0;34m\u001b[0m\u001b[0m\n\u001b[0;32m----> 9\u001b[0;31m \u001b[0mnext\u001b[0m\u001b[0;34m(\u001b[0m\u001b[0mmy_iterator\u001b[0m\u001b[0;34m)\u001b[0m\u001b[0;34m\u001b[0m\u001b[0;34m\u001b[0m\u001b[0m\n\u001b[0m",
            "\u001b[0;31mStopIteration\u001b[0m: "
          ]
        }
      ]
    },
    {
      "cell_type": "markdown",
      "source": [
        "А що якщо викликати цю ж функцію на рядку?"
      ],
      "metadata": {
        "id": "aekWHGXOLRsO"
      }
    },
    {
      "cell_type": "code",
      "source": [
        "next(my_str)"
      ],
      "metadata": {
        "id": "mxATGsErLV1i",
        "colab": {
          "base_uri": "https://localhost:8080/",
          "height": 141
        },
        "outputId": "892ba07e-85fd-4575-b5ab-7466b5512bc1"
      },
      "execution_count": 36,
      "outputs": [
        {
          "output_type": "error",
          "ename": "TypeError",
          "evalue": "'str' object is not an iterator",
          "traceback": [
            "\u001b[0;31m---------------------------------------------------------------------------\u001b[0m",
            "\u001b[0;31mTypeError\u001b[0m                                 Traceback (most recent call last)",
            "\u001b[0;32m<ipython-input-36-b507c466c498>\u001b[0m in \u001b[0;36m<cell line: 0>\u001b[0;34m()\u001b[0m\n\u001b[0;32m----> 1\u001b[0;31m \u001b[0mnext\u001b[0m\u001b[0;34m(\u001b[0m\u001b[0mmy_str\u001b[0m\u001b[0;34m)\u001b[0m\u001b[0;34m\u001b[0m\u001b[0;34m\u001b[0m\u001b[0m\n\u001b[0m",
            "\u001b[0;31mTypeError\u001b[0m: 'str' object is not an iterator"
          ]
        }
      ]
    },
    {
      "cell_type": "markdown",
      "source": [
        " 12. (5б). Опишіть своїми словами в одному реченні, як ви розумієте різницю між ітерабельними обʼєктами та ітераторами (можна на прикладі)."
      ],
      "metadata": {
        "id": "XwtMEopwJ4pH"
      }
    },
    {
      "cell_type": "markdown",
      "source": [
        "Ітерабельний об'єкт - це як корзина з фруктами, а ітератор це рука, яка дозволяє передивитися усі фрукти у корзині і виконати якусь дію з ними. Наприклад викласти усі, або покласти у окрему корзину тільки червоні фрукти"
      ],
      "metadata": {
        "id": "-sHrODc3KFn8"
      }
    },
    {
      "cell_type": "markdown",
      "source": [
        "13. (11б). Створіть клас, що має визначений Iterator Protocol та при кожному виклику next повертає назву дня тижня, поки вони не вичерпаються. Зверніть увагу, що порядок має значення."
      ],
      "metadata": {
        "id": "E9qJWmNbK8Gl"
      }
    },
    {
      "cell_type": "code",
      "source": [
        "class DaysOfWeekIterator:\n",
        "  def __init__(self):\n",
        "    self.days = [\"Monday\", \"Tuesday\", \"Wednesday\", \"Thursday\", \"Friday\", \"Saturday\", \"Sunday\"]\n",
        "    self.index = 0\n",
        "\n",
        "  def __iter__(self):\n",
        "    return self\n",
        "\n",
        "  def __next__(self):\n",
        "    if self.index >= len(self.days):\n",
        "      raise StopIteration\n",
        "    day = self.days[self.index]\n",
        "    self.index += 1\n",
        "    return day\n",
        "\n",
        "days_iterator = DaysOfWeekIterator()\n",
        "for day in days_iterator:\n",
        "    print(day)"
      ],
      "metadata": {
        "id": "cqx-g_RsLo6I",
        "colab": {
          "base_uri": "https://localhost:8080/"
        },
        "outputId": "6c9f6042-4ffa-4aea-f3a8-496815dcacf5"
      },
      "execution_count": 42,
      "outputs": [
        {
          "output_type": "stream",
          "name": "stdout",
          "text": [
            "Monday\n",
            "Tuesday\n",
            "Wednesday\n",
            "Thursday\n",
            "Friday\n",
            "Saturday\n",
            "Sunday\n"
          ]
        }
      ]
    },
    {
      "cell_type": "markdown",
      "source": [
        "# Вітаю! Ви велика(ий) молодець, що впоралась(вся). Похваліть себе та побалуйте чимось приємним. Я Вами пишаюся."
      ],
      "metadata": {
        "id": "Z3E3S_s1Fv7-"
      }
    }
  ]
}